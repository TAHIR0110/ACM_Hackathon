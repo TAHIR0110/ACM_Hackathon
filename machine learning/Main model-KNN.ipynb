{
 "cells": [
  {
   "cell_type": "code",
   "execution_count": 61,
   "id": "41cc96f8",
   "metadata": {},
   "outputs": [
    {
     "name": "stdout",
     "output_type": "stream",
     "text": [
      "KNN Accuracy: 0.9302832244008714\n",
      "Enter Database Fundamentals_encoded: 3\n",
      "Enter Computer Architecture_encoded: 6\n",
      "Enter Distributed Computing Systems_encoded: 3\n",
      "Enter Cyber Security_encoded: 4\n",
      "Enter Networking_encoded: 3\n",
      "Enter Software Development_encoded: 3\n",
      "Enter Programming Skills_encoded: 3\n",
      "Enter Project Management_encoded: 3\n",
      "Enter Computer Forensics Fundamentals_encoded: 3\n",
      "Enter Technical Communication_encoded: 3\n",
      "Enter AI ML_encoded: 3\n",
      "Enter Software Engineering_encoded: 3\n",
      "Enter Business Analysis_encoded: 3\n",
      "Enter Communication skills_encoded: 3\n",
      "Enter Data Science_encoded: 3\n",
      "Enter Troubleshooting skills_encoded: 3\n",
      "Enter Graphics Designing_encoded: 3\n"
     ]
    },
    {
     "data": {
      "text/plain": [
       "array(['Hardware Engineer', 'Technical Writer', 'Database Administrator'],\n",
       "      dtype=object)"
      ]
     },
     "execution_count": 61,
     "metadata": {},
     "output_type": "execute_result"
    }
   ],
   "source": [
    "import numpy as np\n",
    "import pandas as pd\n",
    "from sklearn.model_selection import train_test_split\n",
    "from sklearn.neighbors import KNeighborsClassifier\n",
    "from sklearn.preprocessing import LabelEncoder, StandardScaler\n",
    "from sklearn.metrics import accuracy_score\n",
    "\n",
    "df = pd.read_csv('dataset9000.csv')\n",
    "\n",
    "for column in df.columns:\n",
    "    if df[column].dtype == 'object':\n",
    "        label_encoder = LabelEncoder()\n",
    "        df[column + '_encoded'] = label_encoder.fit_transform(df[column])\n",
    "\n",
    "df.drop(['Database Fundamentals', 'Computer Architecture',\n",
    "         'Distributed Computing Systems', 'Cyber Security', 'Networking',\n",
    "         'Software Development', 'Programming Skills', 'Project Management',\n",
    "         'Computer Forensics Fundamentals', 'Technical Communication', 'AI ML',\n",
    "         'Software Engineering', 'Business Analysis', 'Communication skills',\n",
    "         'Data Science', 'Troubleshooting skills', 'Graphics Designing',\n",
    "         'Role_encoded'], axis=1, inplace=True)\n",
    "\n",
    "X = df.drop('Role', axis=1)\n",
    "y = df['Role']\n",
    "\n",
    "X_train, X_test, y_train, y_test = train_test_split(X, y, test_size=0.2, random_state=42)\n",
    "\n",
    "scaler = StandardScaler()\n",
    "X_train_scaled = scaler.fit_transform(X_train)\n",
    "X_test_scaled = scaler.transform(X_test)\n",
    "\n",
    "knn_model = KNeighborsClassifier(n_neighbors=3)\n",
    "knn_model.fit(X_train_scaled, y_train)\n",
    "\n",
    "y_pred = knn_model.predict(X_test_scaled)\n",
    "\n",
    "accuracy = accuracy_score(y_test, y_pred)\n",
    "print(f\"KNN Accuracy: {accuracy}\")\n",
    "\n",
    "user_input = {}\n",
    "for column in X.columns:\n",
    "    user_input[column] = float(input(f\"Enter {column}: \"))\n",
    "\n",
    "user_df = pd.DataFrame([user_input])\n",
    "\n",
    "user_input_scaled = scaler.transform(user_df)\n",
    "\n",
    "user_predictions_proba = knn_model.predict_proba(user_input_scaled)\n",
    "\n",
    "top_3_classes = user_predictions_proba.argsort()[0, -3:][::-1]\n",
    "\n",
    "label_encoder.inverse_transform(top_3_classes)\n"
   ]
  },
  {
   "cell_type": "code",
   "execution_count": 62,
   "id": "c63384e6",
   "metadata": {},
   "outputs": [
    {
     "name": "stdout",
     "output_type": "stream",
     "text": [
      "KNN Accuracy: 0.9302832244008714\n"
     ]
    }
   ],
   "source": [
    "print(f\"KNN Accuracy: {accuracy}\")"
   ]
  },
  {
   "cell_type": "code",
   "execution_count": null,
   "id": "c46c43c3",
   "metadata": {},
   "outputs": [],
   "source": []
  }
 ],
 "metadata": {
  "kernelspec": {
   "display_name": "Python 3 (ipykernel)",
   "language": "python",
   "name": "python3"
  },
  "language_info": {
   "codemirror_mode": {
    "name": "ipython",
    "version": 3
   },
   "file_extension": ".py",
   "mimetype": "text/x-python",
   "name": "python",
   "nbconvert_exporter": "python",
   "pygments_lexer": "ipython3",
   "version": "3.11.3"
  }
 },
 "nbformat": 4,
 "nbformat_minor": 5
}
